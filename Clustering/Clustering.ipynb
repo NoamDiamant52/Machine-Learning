{
 "cells": [
  {
   "cell_type": "markdown",
   "metadata": {},
   "source": [
    "Import libraries"
   ]
  },
  {
   "cell_type": "code",
   "execution_count": 36,
   "metadata": {},
   "outputs": [],
   "source": [
    "import scipy.io\n",
    "import scipy.special\n",
    "import numpy as np\n",
    "import matplotlib.pyplot as plt\n",
    "\n",
    "# Load MNIST dataset (assuming mnist_all.mat is available in the working directory)\n",
    "# Load the MNIST .mat file\n",
    "mnist_data = scipy.io.loadmat('mnist_all.mat')"
   ]
  },
  {
   "cell_type": "code",
   "execution_count": null,
   "metadata": {},
   "outputs": [],
   "source": [
    "# Read the image and its size\n",
    "iterations = 27\n",
    "test_samples = np.vstack([mnist_data[f'test{i}'] for i in range(10)])\n",
    "test_samples_size = test_samples.shape\n",
    "mul_samples_dims = test_samples_size[0] * test_samples_size[1]\n",
    "cost = np.zeros(iterations - 2)\n",
    "k = 10\n",
    "\n",
    "\n",
    "# Create image vector\n",
    "x = test_samples.reshape(mul_samples_dims, -1)\n",
    "\n",
    "# Initialize K-means\n",
    "Ix = np.random.randint(0, 256, size=k)\n",
    "mean1 = np.zeros((k, x.shape[1]))\n",
    "\n",
    "for i in range(k):\n",
    "    mean1[i, :] = Ix[i]\n",
    "\n",
    "# Loop for K-means algorithm\n",
    "for i1 in range(2, iterations - 2):\n",
    "    Rnk = np.zeros((mul_samples_dims, k))\n",
    "    d = np.zeros((mul_samples_dims, k))\n",
    "\n",
    "    for i in range(mul_samples_dims):\n",
    "        for j in range(k):\n",
    "            d[i, j] = np.sum((x[i, :] - mean1[j, :]) ** 2)\n",
    "\n",
    "        Imin = np.argmin(d[i, :])\n",
    "        Rnk[i, Imin] = 1\n",
    "\n",
    "    J1 = 0\n",
    "    sumRnk = np.sum(Rnk, axis=0)\n",
    "\n",
    "    for i in range(mul_samples_dims):\n",
    "        for j in range(k):\n",
    "            J1 += Rnk[i, j] * d[i, j]\n",
    "            mean1[j, :] += Rnk[i, j] * x[i, :]\n",
    "\n",
    "    for i in range(k):\n",
    "        if sumRnk[i] != 0:\n",
    "            mean1[i, :] /= sumRnk[i]\n",
    "\n",
    "    cost[i1 - 2] = J1\n",
    "\n",
    "    if i1 > 2 and abs(cost[i1 - 2] - cost[i1 - 3]) < 5:\n",
    "        break\n",
    "\n",
    "    print(f\"Cost at iteration {i1} is {J1}\")\n",
    "\n",
    "# Plotting\n",
    "xcost = np.linspace(1, iterations - 2, iterations - 2)\n",
    "plt.plot(xcost, cost)\n",
    "plt.title(\"cost as a function of iterations\")\n",
    "plt.xlabel(\"Iteration's number\")\n",
    "plt.ylabel(\"cost function\")\n",
    "plt.xlim([1, len(cost)])\n",
    "plt.show()"
   ]
  }
 ],
 "metadata": {
  "kernelspec": {
   "display_name": "dl_biu",
   "language": "python",
   "name": "python3"
  },
  "language_info": {
   "codemirror_mode": {
    "name": "ipython",
    "version": 3
   },
   "file_extension": ".py",
   "mimetype": "text/x-python",
   "name": "python",
   "nbconvert_exporter": "python",
   "pygments_lexer": "ipython3",
   "version": "3.8.18"
  }
 },
 "nbformat": 4,
 "nbformat_minor": 2
}
