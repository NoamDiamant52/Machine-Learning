{
 "cells": [
  {
   "cell_type": "markdown",
   "metadata": {},
   "source": [
    "Import libraries"
   ]
  },
  {
   "cell_type": "code",
   "execution_count": 18,
   "metadata": {},
   "outputs": [],
   "source": [
    "import scipy.io\n",
    "import scipy.special\n",
    "import numpy as np\n",
    "import matplotlib.pyplot as plt\n",
    "\n",
    "# Load MNIST dataset (assuming mnist_all.mat is available in the working directory)\n",
    "# Load the MNIST .mat file\n",
    "mnist_data = scipy.io.loadmat('mnist_all.mat')"
   ]
  },
  {
   "cell_type": "code",
   "execution_count": 30,
   "metadata": {},
   "outputs": [
    {
     "name": "stdout",
     "output_type": "stream",
     "text": [
      "(7840000, 1)\n"
     ]
    },
    {
     "ename": "KeyboardInterrupt",
     "evalue": "",
     "output_type": "error",
     "traceback": [
      "\u001b[1;31m---------------------------------------------------------------------------\u001b[0m",
      "\u001b[1;31mKeyboardInterrupt\u001b[0m                         Traceback (most recent call last)",
      "Cell \u001b[1;32mIn[30], line 28\u001b[0m\n\u001b[0;32m     26\u001b[0m \u001b[38;5;28;01mfor\u001b[39;00m i \u001b[38;5;129;01min\u001b[39;00m \u001b[38;5;28mrange\u001b[39m(mul_samples_dims):\n\u001b[0;32m     27\u001b[0m     \u001b[38;5;28;01mfor\u001b[39;00m j \u001b[38;5;129;01min\u001b[39;00m \u001b[38;5;28mrange\u001b[39m(k):\n\u001b[1;32m---> 28\u001b[0m         d[i, j] \u001b[38;5;241m=\u001b[39m np\u001b[38;5;241m.\u001b[39msum((\u001b[43mx\u001b[49m\u001b[43m[\u001b[49m\u001b[43mi\u001b[49m\u001b[43m,\u001b[49m\u001b[43m \u001b[49m\u001b[43m:\u001b[49m\u001b[43m]\u001b[49m\u001b[43m \u001b[49m\u001b[38;5;241;43m-\u001b[39;49m\u001b[43m \u001b[49m\u001b[43mmean1\u001b[49m\u001b[43m[\u001b[49m\u001b[43mj\u001b[49m\u001b[43m,\u001b[49m\u001b[43m \u001b[49m\u001b[43m:\u001b[49m\u001b[43m]\u001b[49m) \u001b[38;5;241m*\u001b[39m\u001b[38;5;241m*\u001b[39m \u001b[38;5;241m2\u001b[39m)\n\u001b[0;32m     30\u001b[0m     Imin \u001b[38;5;241m=\u001b[39m np\u001b[38;5;241m.\u001b[39margmin(d[i, :])\n\u001b[0;32m     31\u001b[0m     Rnk[i, Imin] \u001b[38;5;241m=\u001b[39m \u001b[38;5;241m1\u001b[39m\n",
      "\u001b[1;31mKeyboardInterrupt\u001b[0m: "
     ]
    }
   ],
   "source": [
    "# Read the image and its size\n",
    "iterations = 27\n",
    "test_samples = np.vstack([mnist_data[f'test{i}'] for i in range(10)])\n",
    "test_samples_size = test_samples.shape\n",
    "mul_samples_dims = test_samples_size[0] * test_samples_size[1]\n",
    "cost = np.zeros(iterations - 2)\n",
    "k = 10\n",
    "\n",
    "\n",
    "# Create image vector\n",
    "x = test_samples.reshape(mul_samples_dims, -1)\n",
    "\n",
    "# Initialize K-means\n",
    "Ix = np.random.randint(0, 256, size=k)\n",
    "mean1 = np.zeros((k, x.shape[1]))\n",
    "\n",
    "for i in range(k):\n",
    "    mean1[i, :] = Ix[i]\n",
    "\n",
    "# Loop for K-means algorithm\n",
    "for i1 in range(2, iterations - 2):\n",
    "    Rnk = np.zeros((mul_samples_dims, k))\n",
    "    d = np.zeros((mul_samples_dims, k))\n",
    "\n",
    "    for i in range(mul_samples_dims):\n",
    "        for j in range(k):\n",
    "            d[i, j] = np.sum((x[i, :] - mean1[j, :]) ** 2)\n",
    "\n",
    "        Imin = np.argmin(d[i, :])\n",
    "        Rnk[i, Imin] = 1\n",
    "\n",
    "    J1 = 0\n",
    "    sumRnk = np.sum(Rnk, axis=0)\n",
    "\n",
    "    for i in range(mul_samples_dims):\n",
    "        for j in range(k):\n",
    "            J1 += Rnk[i, j] * d[i, j]\n",
    "            mean1[j, :] += Rnk[i, j] * x[i, :]\n",
    "\n",
    "    for i in range(k):\n",
    "        if sumRnk[i] != 0:\n",
    "            mean1[i, :] /= sumRnk[i]\n",
    "\n",
    "    cost[i1 - 2] = J1\n",
    "\n",
    "    if i1 > 2 and abs(cost[i1 - 2] - cost[i1 - 3]) < 5:\n",
    "        break\n",
    "\n",
    "    print(f\"the current cost is {J1}\")\n",
    "\n",
    "# Plotting\n",
    "xcost = np.linspace(1, iterations - 2, iterations - 2)\n",
    "plt.plot(xcost, cost)\n",
    "plt.title(\"Improvement process of score during iterations\")\n",
    "plt.xlabel(\"Iteration number\")\n",
    "plt.ylabel(\"Cost function\")\n",
    "plt.xlim([1, len(cost)])\n",
    "plt.show()"
   ]
  }
 ],
 "metadata": {
  "kernelspec": {
   "display_name": "dl_biu",
   "language": "python",
   "name": "python3"
  },
  "language_info": {
   "codemirror_mode": {
    "name": "ipython",
    "version": 3
   },
   "file_extension": ".py",
   "mimetype": "text/x-python",
   "name": "python",
   "nbconvert_exporter": "python",
   "pygments_lexer": "ipython3",
   "version": "3.8.18"
  }
 },
 "nbformat": 4,
 "nbformat_minor": 2
}
